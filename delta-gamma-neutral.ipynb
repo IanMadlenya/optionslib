{
 "metadata": {
  "name": "",
  "signature": "sha256:b21938cd0cb5103ff8299611b71e9ba4cb6b022c130b88f5cdaec984bfd54eed"
 },
 "nbformat": 3,
 "nbformat_minor": 0,
 "worksheets": [
  {
   "cells": [
    {
     "cell_type": "code",
     "collapsed": false,
     "input": [
      "%matplotlib inline\n",
      "\n",
      "import numpy as np\n",
      "import pandas\n",
      "\n",
      "import models\n",
      "import models.bs as bs"
     ],
     "language": "python",
     "metadata": {},
     "outputs": [],
     "prompt_number": 141
    },
    {
     "cell_type": "code",
     "collapsed": false,
     "input": [
      "def plt(x, y, cols):\n",
      "    pandas.DataFrame(y, index=x, columns=cols).plot()"
     ],
     "language": "python",
     "metadata": {},
     "outputs": [],
     "prompt_number": 142
    },
    {
     "cell_type": "code",
     "collapsed": false,
     "input": [
      "S = np.arange(25.0, 40.50, 0.50)\n",
      "\n",
      "k = np.array([30.0, 35.0])\n",
      "r = 0.0025\n",
      "q = 0.0\n",
      "t = 37.0/365.0\n",
      "t_ = np.arange(37.0, -1, -1)\n",
      "vol = np.array([0.2791, 0.2816])\n",
      "\n",
      "position = (1.0, -1.0)\n",
      "position_qty = 1.0\n"
     ],
     "language": "python",
     "metadata": {},
     "outputs": [],
     "prompt_number": 164
    },
    {
     "cell_type": "code",
     "collapsed": false,
     "input": [
      "## COMPUTE THE RELEVANT GREEKS #\n",
      "\n",
      "# compute gammas\n",
      "long_option_gamma = bs.gamma(S, k[0], r, q, t, vol[0])\n",
      "short_option_gamma = bs.gamma(S, k[1], r, q, t, vol[1])\n",
      "\n",
      "# compute deltas\n",
      "long_option_delta = bs.call_delta(S, k[0], r, q, t, vol[0])\n",
      "short_option_delta = bs.call_delta(S, k[1], r, q, t, vol[1])"
     ],
     "language": "python",
     "metadata": {},
     "outputs": [],
     "prompt_number": 165
    },
    {
     "cell_type": "code",
     "collapsed": false,
     "input": [
      "## COMPUTE GAMMA NEUTRAL QUANTITIES ##\n",
      "\n",
      "# compute the quantity of options to make the position gamma neutral\n",
      "long_option_qty = short_option_gamma * 1000.0\n",
      "short_option_qty = -long_option_gamma * 1000.0"
     ],
     "language": "python",
     "metadata": {},
     "outputs": [],
     "prompt_number": 177
    },
    {
     "cell_type": "code",
     "collapsed": false,
     "input": [
      "# compute the net gamma based on the quantity of the option\n",
      "long_option_net_gamma = long_option_qty * long_option_gamma\n",
      "short_option_net_gamma = short_option_qty * short_option_gamma"
     ],
     "language": "python",
     "metadata": {},
     "outputs": [],
     "prompt_number": 179
    },
    {
     "cell_type": "code",
     "collapsed": false,
     "input": [
      "# compute the net delta based on the gamma neutral quantity of the options\n",
      "long_option_net_delta = long_option_qty * long_option_delta\n",
      "short_option_net_delta = short_option_qty * short_option_delta"
     ],
     "language": "python",
     "metadata": {},
     "outputs": [],
     "prompt_number": 189
    },
    {
     "cell_type": "code",
     "collapsed": false,
     "input": [
      "long_option_net_delta,short_option_net_delta"
     ],
     "language": "python",
     "metadata": {},
     "outputs": [
      {
       "metadata": {},
       "output_type": "pyout",
       "prompt_number": 190,
       "text": [
        "(array([   0.00418456,    0.015081  ,    0.0484807 ,    0.13996413,\n",
        "           0.3652262 ,    0.86665738,    1.88098745,    3.75467677,\n",
        "           6.9294132 ,   11.88364389,   19.02979157,   28.58684219,\n",
        "          40.46497304,   54.202912  ,   68.98568975,   83.74514795,\n",
        "          97.31908078,  108.62829083,  116.82952775,  121.41427004,\n",
        "         122.2417237 ,  119.51171144,  113.69441047,  105.43790656,\n",
        "          95.47273971,   84.52759477,   73.26438932,   62.23575454,\n",
        "          51.86397744,   42.43798802,   34.12375591]),\n",
        " array([ -0.00254386,  -0.00888248,  -0.02758626,  -0.0766967 ,\n",
        "         -0.19205069,  -0.43558992,  -0.89966672,  -1.70063499,\n",
        "         -2.95614908,  -4.74651291,  -7.0696933 ,  -9.80741892,\n",
        "        -12.72044696, -15.48213989, -17.74423484, -19.2146951 ,\n",
        "        -19.72209861, -19.24667995, -17.91148827, -15.94133198,\n",
        "        -13.60614216, -11.16661069,  -8.83488895,  -6.75538637,\n",
        "         -5.00382639,  -3.59870608,  -2.51840064,  -1.71842199,\n",
        "         -1.14551467,  -0.74734445,  -0.47798666]))"
       ]
      }
     ],
     "prompt_number": 190
    },
    {
     "cell_type": "code",
     "collapsed": false,
     "input": [
      "# compute the position net delta which is the quantity of shares to \n",
      "# buy (negative net delta) or sell (positive net delta) to make\n",
      "# delta neutral\n",
      "position_net_delta = long_option_net_delta + short_option_net_delta"
     ],
     "language": "python",
     "metadata": {},
     "outputs": [],
     "prompt_number": 191
    },
    {
     "cell_type": "code",
     "collapsed": false,
     "input": [
      "position_net_delta"
     ],
     "language": "python",
     "metadata": {},
     "outputs": [
      {
       "metadata": {},
       "output_type": "pyout",
       "prompt_number": 192,
       "text": [
        "array([   0.0016407 ,    0.00619851,    0.02089444,    0.06326743,\n",
        "          0.17317551,    0.43106746,    0.98132074,    2.05404178,\n",
        "          3.97326412,    7.13713098,   11.96009827,   18.77942327,\n",
        "         27.74452608,   38.7207721 ,   51.2414549 ,   64.53045285,\n",
        "         77.59698218,   89.38161088,   98.91803949,  105.47293806,\n",
        "        108.63558154,  108.34510075,  104.85952153,   98.68252019,\n",
        "         90.46891333,   80.9288887 ,   70.74598868,   60.51733255,\n",
        "         50.71846276,   41.69064358,   33.64576925])"
       ]
      }
     ],
     "prompt_number": 192
    },
    {
     "cell_type": "code",
     "collapsed": false,
     "input": [
      "## CONSTRUCT THE POSITION ##\n",
      "# compute delta hedge as \n",
      "position_delta_hedge = -position_net_delta.astype(int) * S\n",
      "\n",
      "# compute the option values\n",
      "long_option_value = bs.call_value(S, k[0], r, q, t, vol[0]) * long_option_qty * 100.0\n",
      "short_option_value = bs.call_value(S, k[0], r, q, t, vol[0]) * short_option_qty * 100.0\n",
      "\n",
      "# compute the net position value\n",
      "net_position_value = long_option_value + short_option_value + position_delta_hedge\n",
      "\n",
      "# plot the gamma-delta hedged position against the underlying\n",
      "# should be a flat line\n",
      "plt(S, position_delta_hedge, ['pos'])\n"
     ],
     "language": "python",
     "metadata": {},
     "outputs": [
      {
       "metadata": {},
       "output_type": "display_data",
       "png": "[encoded data removed]",
       "text": [
        "<matplotlib.figure.Figure at 0xf25e710>"
       ]
      }
     ],
     "prompt_number": 198
    },
    {
     "cell_type": "code",
     "collapsed": false,
     "input": [],
     "language": "python",
     "metadata": {},
     "outputs": []
    }
   ],
   "metadata": {}
  }
 ]
}